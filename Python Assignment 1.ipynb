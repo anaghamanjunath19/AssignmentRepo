{
 "cells": [
  {
   "cell_type": "code",
   "execution_count": 3,
   "id": "ec952c01",
   "metadata": {},
   "outputs": [
    {
     "name": "stdout",
     "output_type": "stream",
     "text": [
      "[1505, 1540, 1575, 1610, 1645, 1680, 1715, 1750, 1785, 1820, 1855, 1890, 1925, 1960, 1995, 2030, 2065, 2100, 2135, 2170, 2205, 2240, 2275, 2310, 2345, 2380, 2415, 2450, 2485, 2520, 2555, 2590, 2625, 2660, 2695]\n"
     ]
    }
   ],
   "source": [
    "# 1. Write a Python program to find those numbers which are divisible by 7 and multiple of 5, \n",
    "# between 1500 and 2700 (both included).\n",
    "\n",
    "n = []\n",
    "for x in range(1500, 2700):\n",
    "    if (x%7 == 0) and (x%5 == 0):\n",
    "        n.append(x)\n",
    "print(n)\n"
   ]
  },
  {
   "cell_type": "code",
   "execution_count": 5,
   "id": "9d52ec1c",
   "metadata": {},
   "outputs": [
    {
     "name": "stdout",
     "output_type": "stream",
     "text": [
      "Enter first number 12.5\n",
      "Enter second number 25.5\n",
      "Sum of 12.5 and 25.5 is 38.0\n"
     ]
    }
   ],
   "source": [
    "# 2.\tPython program to add two numbers\n",
    "\n",
    "n1 = input(\"Enter first number \")\n",
    "n2 = input(\"Enter second number \")\n",
    "\n",
    "sum = float(n1)+float(n2)\n",
    "\n",
    "print(\"Sum of {0} and {1} is {2}\".format(n1,n2,sum))\n"
   ]
  },
  {
   "cell_type": "code",
   "execution_count": 7,
   "id": "f4579ae8",
   "metadata": {},
   "outputs": [
    {
     "name": "stdout",
     "output_type": "stream",
     "text": [
      "Enter first number 78.4\n",
      "Enter second number 80.5\n",
      "The maximum value between 78.4 and 80.5 is 80.5\n"
     ]
    }
   ],
   "source": [
    "# 3.\tMaximum of two numbers in Python\n",
    "\n",
    "n1 = input(\"Enter first number \")\n",
    "n2 = input(\"Enter second number \")\n",
    "\n",
    "maximum = max(n1,n2)\n",
    "\n",
    "print(\"The maximum value between {0} and {1} is {2}\".format(n1,n2,maximum))"
   ]
  },
  {
   "cell_type": "code",
   "execution_count": 12,
   "id": "be26fc09",
   "metadata": {},
   "outputs": [
    {
     "name": "stdout",
     "output_type": "stream",
     "text": [
      "Enter a number to find its factorial 7\n",
      "Factorial of number  7 is 5040\n"
     ]
    }
   ],
   "source": [
    "# 4.\tPython Program for factorial of a number\n",
    "\n",
    "n = int(input(\"Enter a number to find its factorial \"))\n",
    "\n",
    "def factorial(n):\n",
    "    return 1 if(n==0 or n==1) else n*factorial(n-1)\n",
    "\n",
    "print(\"Factorial of number \", n ,\"is\", factorial(n))\n"
   ]
  },
  {
   "cell_type": "code",
   "execution_count": 42,
   "id": "014e7108",
   "metadata": {},
   "outputs": [
    {
     "name": "stdout",
     "output_type": "stream",
     "text": [
      "Enter principal amount 10000\n",
      "Enter rate of interest 10\n",
      "Enter time in years5\n",
      "Simple Interest is  5000.0\n"
     ]
    },
    {
     "data": {
      "text/plain": [
       "5000.0"
      ]
     },
     "execution_count": 42,
     "metadata": {},
     "output_type": "execute_result"
    }
   ],
   "source": [
    "# 5.\tPython Program for simple interest\n",
    "\n",
    "def simpleinterest(p,t,r):\n",
    "    \n",
    "    si = (p * t * r)/100\n",
    "    \n",
    "    print(\"Simple Interest is \", si)\n",
    "    return si\n",
    "\n",
    "p = float(input(\"Enter principal amount \"))\n",
    "r = float(input(\"Enter rate of interest \"))\n",
    "t = float(input(\"Enter time in years\"))\n",
    "\n",
    "simpleinterest(p,t,r)"
   ]
  },
  {
   "cell_type": "code",
   "execution_count": 43,
   "id": "364952db",
   "metadata": {},
   "outputs": [
    {
     "name": "stdout",
     "output_type": "stream",
     "text": [
      "Enter principal amount 10000\n",
      "Enter rate of interest 10.25\n",
      "Enter time in years5\n",
      "Compund Interest is  16288.946267774416\n"
     ]
    },
    {
     "data": {
      "text/plain": [
       "16288.946267774416"
      ]
     },
     "execution_count": 43,
     "metadata": {},
     "output_type": "execute_result"
    }
   ],
   "source": [
    "# 6.\tPython Program for compound interest\n",
    "\n",
    "def compoundinterest(p,t,r):\n",
    "    \n",
    "    ci = p * (pow((1 + r / 100), t))\n",
    "    \n",
    "    print(\"Compund Interest is \", ci)\n",
    "    return ci\n",
    "\n",
    "p = float(input(\"Enter principal amount \"))\n",
    "r = float(input(\"Enter rate of interest \"))\n",
    "t = float(input(\"Enter time in years\"))\n",
    "\n",
    "compoundinterest(p,t,r)"
   ]
  },
  {
   "cell_type": "code",
   "execution_count": 29,
   "id": "fe6f4db7",
   "metadata": {},
   "outputs": [
    {
     "name": "stdout",
     "output_type": "stream",
     "text": [
      "True\n"
     ]
    }
   ],
   "source": [
    "# 7.\tPython Program to check Armstrong Number\n",
    "def power(x, y):\n",
    "      \n",
    "    if y == 0:\n",
    "        return 1\n",
    "    if y % 2 == 0:\n",
    "        return power(x, y // 2) * power(x, y // 2)\n",
    "          \n",
    "    return x * power(x, y // 2) * power(x, y // 2)\n",
    "  \n",
    "# to calculate order of the number\n",
    "def order(x):\n",
    "  \n",
    "    n = 0\n",
    "    while (x != 0):\n",
    "        n = n + 1\n",
    "        x = x // 10\n",
    "          \n",
    "    return n\n",
    "\n",
    "def isArmstrong(x):\n",
    "      \n",
    "    n = order(x)\n",
    "    temp = x\n",
    "    sum1 = 0\n",
    "      \n",
    "    while (temp != 0):\n",
    "        r = temp % 10\n",
    "        sum1 = sum1 + power(r, n)\n",
    "        temp = temp // 10\n",
    "        \n",
    "    return (sum1 == x)\n",
    "\n",
    "x = 153\n",
    "print(isArmstrong(x))\n"
   ]
  },
  {
   "cell_type": "code",
   "execution_count": 41,
   "id": "9b341773",
   "metadata": {},
   "outputs": [
    {
     "name": "stdout",
     "output_type": "stream",
     "text": [
      "Enter radius 3\n",
      "Area of circle is 28.26\n"
     ]
    }
   ],
   "source": [
    "# 8.\tPython Program for Program to find area of a circle\n",
    "\n",
    "def area(r):\n",
    "    pi = 3.14\n",
    "    a = pi * r * r\n",
    "    return a\n",
    "\n",
    "r = float(input(\"Enter radius \"))\n",
    "print(\"Area of circle is %.2f\" %area(r))"
   ]
  },
  {
   "cell_type": "code",
   "execution_count": 46,
   "id": "f92d144d",
   "metadata": {},
   "outputs": [
    {
     "name": "stdout",
     "output_type": "stream",
     "text": [
      "Enter lower interval range 40\n",
      "Enter upper interval range 100\n",
      "41\n",
      "43\n",
      "47\n",
      "53\n",
      "59\n",
      "61\n",
      "67\n",
      "71\n",
      "73\n",
      "79\n",
      "83\n",
      "89\n",
      "97\n"
     ]
    }
   ],
   "source": [
    "# 9.\tPython program to print all Prime numbers in an Interval\n",
    "\n",
    "lower = int(input(\"Enter lower interval range \"))\n",
    "upper = int(input(\"Enter upper interval range \"))\n",
    "\n",
    "for num in range(lower,upper+1):\n",
    "    if(num>1):\n",
    "        for i in range(2,num):\n",
    "            if (num%i==0):\n",
    "                break\n",
    "                \n",
    "        else:\n",
    "            print(num)"
   ]
  },
  {
   "cell_type": "code",
   "execution_count": 48,
   "id": "9c136763",
   "metadata": {},
   "outputs": [
    {
     "name": "stdout",
     "output_type": "stream",
     "text": [
      "Enter a number 100\n",
      "100 is not a prime number\n"
     ]
    }
   ],
   "source": [
    "# Python program to check whether a number is Prime or not\n",
    "\n",
    "num = int(input(\"Enter a number \"))\n",
    "\n",
    "if num > 1:\n",
    "  \n",
    "    for i in range(2, int(num/2)+1):\n",
    "  \n",
    "        if (num % i) == 0:\n",
    "            print(num, \"is not a prime number\")\n",
    "            break\n",
    "    else:\n",
    "        print(num, \"is a prime number\")\n",
    "  \n",
    "else:\n",
    "    print(num, \"is not a prime number\")"
   ]
  },
  {
   "cell_type": "code",
   "execution_count": null,
   "id": "8a5c12e4",
   "metadata": {},
   "outputs": [],
   "source": []
  }
 ],
 "metadata": {
  "kernelspec": {
   "display_name": "Python 3 (ipykernel)",
   "language": "python",
   "name": "python3"
  },
  "language_info": {
   "codemirror_mode": {
    "name": "ipython",
    "version": 3
   },
   "file_extension": ".py",
   "mimetype": "text/x-python",
   "name": "python",
   "nbconvert_exporter": "python",
   "pygments_lexer": "ipython3",
   "version": "3.9.6"
  }
 },
 "nbformat": 4,
 "nbformat_minor": 5
}
